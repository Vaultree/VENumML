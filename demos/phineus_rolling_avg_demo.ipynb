{
 "cells": [
  {
   "cell_type": "markdown",
   "metadata": {},
   "source": [
    "## Phineus - Rolling Average\n",
    "\n",
    "Phineus is a Python library designed for encrypted time series forecasting. Inspired by Meta's Prophet, Phineus provides functionalities for encrypted Fast Fourier Transform (FFT) and encrypted rolling average calculations, protecting the privacy of your time series data during the forecasting process.\n",
    "\n",
    "Phineus is named after the blind prophet in Greek mythology. While blinded, Phineus retained his ability to see the future. Using fully homomorphic encryption, Phineus can perform computations on encrypted time series data, forecasting the future without ever decrypting the actual data."
   ]
  },
  {
   "cell_type": "code",
   "execution_count": 8,
   "metadata": {},
   "outputs": [],
   "source": [
    "import sys\n",
    "sys.path.append('..')\n",
    "\n",
    "import venumpy\n",
    "import numpy as np\n",
    "import matplotlib.pyplot as plt\n",
    "\n",
    "from venumMLlib.time_series.Phineus import phineus_rolling_average\n",
    "from venumMLlib.venum_tools import decrypt_array"
   ]
  },
  {
   "cell_type": "markdown",
   "metadata": {},
   "source": [
    "This notebook provides an example of calculating rolling averages on encrypted data using the phineus_rolling_average.compute_rolling_average function that's part of the Phineus library.\n",
    "\n",
    "##### Functionality:\n",
    "\n",
    "The cell below encrypts a list of data points using the built in venumpy context (ctx).\n",
    "It then calculates the rolling averages for a defined window size using the encrypted data.\n",
    "Finally, it decrypts the rolling averages and prediction for verification purposes.\n",
    "\n",
    "##### Rolling Average Calculation:\n",
    "\n",
    "```\n",
    "phineus_rolling_average.rolling_average(ctx, encrypted_data, 2): \n",
    "```\n",
    "\n",
    "The above line calls the rolling_average function from the Phineus library. It takes three arguments:\n",
    "\n",
    "```\n",
    "- ctx: The secret context object containing the security settings.\n",
    "```\n",
    "\n",
    "```\n",
    "- values: The list containing encrypted data points.\n",
    "```\n",
    "```\n",
    "- window size: The window size for the rolling average (i.e., average of the last 2 data points).\n",
    "```\n",
    "\n",
    "##### Output\n",
    "The function performs homomorphic encryption calculations on the encrypted data to compute the rolling averages and a prediction for the next value. \n",
    "It returns two outputs:\n",
    "- A list containing the encrypted rolling averages for each window\n",
    "- The predicted value for the next encrypted data point. \n",
    "\n",
    "\n",
    "The decrypted rolling averages are printed for verification purposes."
   ]
  },
  {
   "cell_type": "code",
   "execution_count": 10,
   "metadata": {},
   "outputs": [
    {
     "name": "stdout",
     "output_type": "stream",
     "text": [
      "Prediction for next value: [1.999998 2.500005 3.500007 4.500009]\n"
     ]
    }
   ],
   "source": [
    "# Set security level (adjust as needed)\n",
    "ctx = venumpy.SecretContext.new_with_security(128)\n",
    "\n",
    "# Encrypt data as a list of lists\n",
    "data = [[1, 2, 3], [2, 3, 4], [3, 4, 5], [4, 5, 6]]  # Example data\n",
    "encrypted_data = [[ctx.encrypt(value) for value in sublist] for sublist in data]\n",
    "\n",
    "# Calculate rolling averages\n",
    "rolling_avgs = phineus_rolling_average.rolling_average(ctx, encrypted_data, 2)\n",
    "\n",
    "decrypted_prediction = decrypt_array(rolling_avgs)\n",
    "print(\"Prediction for next value:\", decrypted_prediction)\n"
   ]
  },
  {
   "cell_type": "code",
   "execution_count": null,
   "metadata": {},
   "outputs": [],
   "source": []
  }
 ],
 "metadata": {
  "kernelspec": {
   "display_name": ".venv",
   "language": "python",
   "name": "python3"
  },
  "language_info": {
   "codemirror_mode": {
    "name": "ipython",
    "version": 3
   },
   "file_extension": ".py",
   "mimetype": "text/x-python",
   "name": "python",
   "nbconvert_exporter": "python",
   "pygments_lexer": "ipython3",
   "version": "3.11.4"
  }
 },
 "nbformat": 4,
 "nbformat_minor": 2
}
