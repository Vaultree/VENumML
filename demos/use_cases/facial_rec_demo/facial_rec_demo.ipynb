{
 "cells": [
  {
   "cell_type": "markdown",
   "metadata": {},
   "source": [
    "## Encrypted Facial Recognition Demo\n",
    "This Jupyter notebook provides an introduction to performing facial recognition over encrypted images."
   ]
  },
  {
   "cell_type": "code",
   "execution_count": null,
   "metadata": {
    "id": "Vj9-6FyME70I"
   },
   "outputs": [],
   "source": [
    "# Import libraries\n",
    "from venumML.venumpy import small_glwe as vp\n",
    "from scipy.spatial import distance\n",
    "# Dependancies: pip install tensorflow, deepface, scipy\n",
    "\n",
    "from deepface import DeepFace"
   ]
  },
  {
   "cell_type": "code",
   "execution_count": 2,
   "metadata": {
    "id": "mlmjxSwXZDTn"
   },
   "outputs": [],
   "source": [
    "# Import the images to perform facial recognition on\n",
    "img1_path = \"hp1.png\"\n",
    "img2_path = \"hp2.png\""
   ]
  },
  {
   "cell_type": "markdown",
   "metadata": {
    "id": "pvhSuQl3nUD-"
   },
   "source": [
    "# Image Embeddings\n",
    "\n",
    "Represent images as facenet embeddings."
   ]
  },
  {
   "cell_type": "code",
   "execution_count": 3,
   "metadata": {
    "collapsed": true,
    "id": "8WQgFaMyZKbX"
   },
   "outputs": [],
   "source": [
    "# Use the deepface lib to create image embeddings\n",
    "img1_embedding = DeepFace.represent(img1_path, model_name = 'Facenet')[0][\"embedding\"]\n",
    "img2_embedding = DeepFace.represent(img2_path, model_name = 'Facenet')[0][\"embedding\"]"
   ]
  },
  {
   "cell_type": "markdown",
   "metadata": {},
   "source": [
    "# Encryption\n",
    "\n",
    "Apply homomorphic encryption to facial embeddings done on client side.\n",
    "\n",
    "Store the embeddings in the cloud."
   ]
  },
  {
   "cell_type": "code",
   "execution_count": 4,
   "metadata": {},
   "outputs": [],
   "source": [
    "# Encrypt the image embeddings\n",
    "ctx = vp.SecretContext()\n",
    "ctx.precision= 6\n",
    "c1 = [ctx.encrypt(v) for v in img1_embedding]\n",
    "c2 = [ctx.encrypt(v) for v in img2_embedding]"
   ]
  },
  {
   "cell_type": "markdown",
   "metadata": {
    "id": "fqiAcPSuoqbg"
   },
   "source": [
    "# Calculations\n",
    "\n",
    "In the cloud, make computations over encrypted facial embeddings.\n",
    "\n",
    "Euclidean Distance Metric: Subtract vectors, then perform dot product."
   ]
  },
  {
   "cell_type": "code",
   "execution_count": 5,
   "metadata": {},
   "outputs": [],
   "source": [
    "# Subtract the encrypted vectors\n",
    "cipher_d = [c2_i - c1_i for c2_i, c1_i in zip(c2, c1)]"
   ]
  },
  {
   "cell_type": "code",
   "execution_count": 6,
   "metadata": {},
   "outputs": [
    {
     "data": {
      "text/plain": [
       "<venumpy.small_glwe.Ciphertext at 0x286bb2430>"
      ]
     },
     "execution_count": 6,
     "metadata": {},
     "output_type": "execute_result"
    }
   ],
   "source": [
    "# Perform a dot product to get the euclidean distance metric\n",
    "euclidean_squared_0 = [cipher_d_i * cipher_d_i for cipher_d_i in cipher_d]\n",
    "\n",
    "total = ctx.encrypt(0.0)\n",
    "for i in euclidean_squared_0:\n",
    "    total = total + i\n",
    "total"
   ]
  },
  {
   "cell_type": "markdown",
   "metadata": {
    "id": "KNBqRMR_bT8A"
   },
   "source": [
    "# Decryption\n",
    "\n",
    "\n",
    "Homomorphically encrypted euclidean squared value computed in the cloud, then retrieve it from the client.\n",
    "\n",
    "Only the client can decrypt it because they hold the private key."
   ]
  },
  {
   "cell_type": "code",
   "execution_count": 7,
   "metadata": {},
   "outputs": [
    {
     "data": {
      "text/plain": [
       "85.186523206818"
      ]
     },
     "execution_count": 7,
     "metadata": {},
     "output_type": "execute_result"
    }
   ],
   "source": [
    "# Decrypt the euclidean distance facial recognition metric\n",
    "decrypted_es = total.decrypt()\n",
    "decrypted_es"
   ]
  },
  {
   "cell_type": "markdown",
   "metadata": {
    "id": "jrwPeD9g3dp_"
   },
   "source": [
    "# Final Results in plaintext"
   ]
  },
  {
   "cell_type": "code",
   "execution_count": 8,
   "metadata": {
    "colab": {
     "base_uri": "https://localhost:8080/"
    },
    "id": "tBjfQOGMbdk4",
    "outputId": "1858a1e8-848d-452a-9f4f-307aa8141fe9"
   },
   "outputs": [
    {
     "name": "stdout",
     "output_type": "stream",
     "text": [
      "This is the same person in different images\n"
     ]
    }
   ],
   "source": [
    "if decrypted_es < 100:\n",
    "    print(\"This is the same person in different images\")\n",
    "else:\n",
    "    print(\"These are different people\")"
   ]
  },
  {
   "cell_type": "markdown",
   "metadata": {
    "id": "0hvGCA8RbguZ"
   },
   "source": [
    "# Validation\n",
    "\n",
    "What if euclidean distance calculation is done over plaintext data?\n",
    "\n",
    "The result should be the same."
   ]
  },
  {
   "cell_type": "code",
   "execution_count": 9,
   "metadata": {
    "colab": {
     "base_uri": "https://localhost:8080/"
    },
    "id": "1vX8Qtq2bdnJ",
    "outputId": "3c4e5f46-cfa9-4421-b71e-fa3aceaebd32"
   },
   "outputs": [
    {
     "name": "stdout",
     "output_type": "stream",
     "text": [
      "euclidean squared - plaintext:  85.1865116552079\n",
      "euclidean squared - homomorphic:  85.186523206818\n",
      "The difference between plaintext and homomorphic is acceptable.\n"
     ]
    }
   ],
   "source": [
    "# Euclidean squared distance\n",
    "euclidean_distance = distance.euclidean(img1_embedding, img2_embedding)\n",
    "plt_distance = euclidean_distance**2\n",
    "\n",
    "print(\"euclidean squared - plaintext: \", plt_distance)\n",
    "print(\"euclidean squared - homomorphic: \", decrypted_es)\n",
    "\n",
    "# Check the difference in precision\n",
    "if abs(plt_distance - decrypted_es) < 0.0001:\n",
    "  print(\"The difference between plaintext and homomorphic is acceptable.\")\n",
    "else:\n",
    "  print(\"The difference between plaintext and homomorphic is unacceptable.\")"
   ]
  },
  {
   "cell_type": "code",
   "execution_count": null,
   "metadata": {},
   "outputs": [],
   "source": []
  }
 ],
 "metadata": {
  "colab": {
   "provenance": []
  },
  "kernelspec": {
   "display_name": "CathalEnv",
   "language": "python",
   "name": "python3"
  },
  "language_info": {
   "codemirror_mode": {
    "name": "ipython",
    "version": 3
   },
   "file_extension": ".py",
   "mimetype": "text/x-python",
   "name": "python",
   "nbconvert_exporter": "python",
   "pygments_lexer": "ipython3",
   "version": "3.8.18"
  }
 },
 "nbformat": 4,
 "nbformat_minor": 0
}
