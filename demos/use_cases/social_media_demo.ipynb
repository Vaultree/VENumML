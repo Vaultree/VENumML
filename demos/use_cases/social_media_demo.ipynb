{
 "cells": [
  {
   "cell_type": "markdown",
   "id": "afbdf6eb",
   "metadata": {},
   "source": [
    "## Social Media\n",
    " \n",
    "\n",
    "\n"
   ]
  },
  {
   "cell_type": "markdown",
   "id": "00458004",
   "metadata": {},
   "source": [
    "\n",
    "### scenario\n",
    "In this scenario, we are going to simulate the collboration between a social media platform (made up of subforums discussing various topics) and a company wishing to advertise. \n",
    "### Privacy Concerns \n",
    "In certain instances, these subforums are of a sensitive nature, and posts are kept private to approved members only. Specifically the subforum we are targeting is \"Health and Wellness\" and the product being advertised is a sleep tracking app. \n",
    "### Business Case\n",
    "The social media company, which we will call ClickReadShare and the advertiser, Snoo-Ze-Time, want to share data in a secure manner that respects the users privacy and ensures that Snoo-Ze-Time can identify users that are:\n",
    "* A relevant fit for the product (e.g. they have discussed sleep issues/advice in the health and wellness subforum)\n",
    "* An influential member of the community (so that if they do buy the product, and enjoy it, they are an ideal source for word of mouth)\n",
    "\n",
    "### Solution\n",
    "Here ClickReadShare has agreed to share an encrypted summary of the users' posts in the subforum, as well as an encrypted graph showing who follows who. It's up to Snoo-Ze-Time to decide how to rank and classify the users. Snoo-Ze-Time has trained a transformer to classify the user summaries, and has decided to use PageRank to rank the users. Once they have classified the users according to their interest in sleep health, and ranked them according to their network influence, Snoo-Ze-Time sends back to ClickReadShare the encrypted results. ClickReadShare can then decrypt and identify which users would be a good fit for the add, without disclosing any information to the advertiser."
   ]
  },
  {
   "cell_type": "code",
   "execution_count": 1,
   "id": "b40bf3be-b695-4e92-b5bf-4e13aaf79277",
   "metadata": {},
   "outputs": [],
   "source": [
    "from transformers import DataCollatorForLanguageModeling, AutoTokenizer, DataCollatorWithPadding, BertTokenizerFast\n",
    "\n",
    "import numpy as np\n",
    "import pickle\n",
    "from tqdm.notebook import tqdm\n",
    "from venumML.venumpy import small_glwe as vp\n",
    "import torch\n",
    "import pandas as pd\n",
    "# import math\n",
    "from scipy.special import expit as sigmoid\n",
    "import networkx as nx\n",
    "\n",
    "from venumML.deep_learning.transformer.transformer import *\n",
    "from venumML.venum_tools import *\n",
    "from venumML.approx_functions import *\n",
    "from venumML.graphs.venum_graph import *\n",
    "\n",
    "from transformer_social_utils import *\n",
    "from venumML.deep_learning.transformer.transformer import *\n"
   ]
  },
  {
   "cell_type": "markdown",
   "id": "ed770c4e",
   "metadata": {},
   "source": [
    "## ClickReadShare instantiates encrypted context \n",
    "Let's start by setting up our context."
   ]
  },
  {
   "cell_type": "code",
   "execution_count": 3,
   "id": "93be39d9",
   "metadata": {},
   "outputs": [],
   "source": [
    "ctx = vp.SecretContext()\n",
    "ctx.precision= 6"
   ]
  },
  {
   "cell_type": "markdown",
   "id": "9a30619a",
   "metadata": {},
   "source": [
    "# ClickReadShare loads user data"
   ]
  },
  {
   "cell_type": "code",
   "execution_count": 4,
   "id": "1f5bf3df",
   "metadata": {},
   "outputs": [],
   "source": [
    "# Import the transformer data folder\n",
    "data_folder = \"../use_cases/social_media_demo/data/\"\n",
    "with open(data_folder + \"synthetic_forum_data.pkl\", \"rb\") as f:\n",
    "    forum_data = pickle.load(f)"
   ]
  },
  {
   "cell_type": "markdown",
   "id": "2d442fd5",
   "metadata": {},
   "source": [
    "# ClickReadShare creates the user graph"
   ]
  },
  {
   "cell_type": "code",
   "execution_count": 5,
   "id": "f19aef7c",
   "metadata": {},
   "outputs": [],
   "source": [
    "\n",
    "forum_data['user_following']\n",
    "# Create a directed graph\n",
    "G = nx.DiGraph()\n",
    "\n",
    "# Add nodes and edges from the user_following data\n",
    "for user, following in forum_data['user_following'].items():\n",
    "    for followed_user in following:\n",
    "        G.add_edge(user, followed_user)\n",
    "\n",
    "# Display the graph information\n",
    "# print(nx.info(G))"
   ]
  },
  {
   "cell_type": "markdown",
   "id": "ebc8bffd",
   "metadata": {},
   "source": [
    "# ClickReadShare encrypts user graph"
   ]
  },
  {
   "cell_type": "code",
   "execution_count": 6,
   "id": "9f2621e5",
   "metadata": {},
   "outputs": [],
   "source": [
    "EG = encrypt_networkx(ctx,G,use_hashing=False)"
   ]
  },
  {
   "cell_type": "markdown",
   "id": "fa76f1dc",
   "metadata": {},
   "source": [
    "# ClickReadShare generates user summaries"
   ]
  },
  {
   "cell_type": "code",
   "execution_count": 7,
   "id": "f020a90b",
   "metadata": {},
   "outputs": [],
   "source": [
    "user_summary = forum_data['user_summary']"
   ]
  },
  {
   "cell_type": "code",
   "execution_count": 8,
   "id": "33769421",
   "metadata": {},
   "outputs": [],
   "source": [
    "with open(data_folder + \"embeddings.pkl\", \"rb\") as f:\n",
    "    embeddings_weights = pickle.load(f)\n",
    "\n",
    "embeddings = Embeddings(embeddings_weights.numpy())\n"
   ]
  },
  {
   "cell_type": "code",
   "execution_count": 9,
   "id": "2cc78cfc",
   "metadata": {},
   "outputs": [],
   "source": [
    "tokenizer = load_tokenizer()\n",
    "max_seq_len = 20"
   ]
  },
  {
   "cell_type": "code",
   "execution_count": 10,
   "id": "abba80c2",
   "metadata": {},
   "outputs": [
    {
     "name": "stderr",
     "output_type": "stream",
     "text": [
      "100%|██████████| 100/100 [00:00<00:00, 176.96it/s]\n"
     ]
    }
   ],
   "source": [
    "encrypted_summaries = encrypt_user_summary(user_summary,embeddings,tokenizer,max_seq_len,ctx)"
   ]
  },
  {
   "cell_type": "markdown",
   "id": "ca961dfd",
   "metadata": {},
   "source": [
    "At this point ClickReadShare has encrypted all the information need by Snoo-Ze-Time to secuerly identify potential customers. Now they transfer the data to Snoo-Ze-Time, and the encrypted machine learning begins!"
   ]
  },
  {
   "cell_type": "markdown",
   "id": "8b9355b1",
   "metadata": {},
   "source": [
    "# Snoo-Ze-Time loads in the model and labels"
   ]
  },
  {
   "cell_type": "code",
   "execution_count": 11,
   "id": "14832040",
   "metadata": {},
   "outputs": [],
   "source": [
    "model_path = \"../use_cases/social_media_demo/model/\"\n",
    "state_dict = torch.load(model_path + 'social_model_weights.pth', map_location=torch.device('cpu'))"
   ]
  },
  {
   "cell_type": "code",
   "execution_count": 12,
   "id": "673386d4",
   "metadata": {},
   "outputs": [],
   "source": [
    "mappings_file_path = data_folder + \"label_mappings.pkl\"\n"
   ]
  },
  {
   "cell_type": "code",
   "execution_count": 13,
   "id": "8d33eab7",
   "metadata": {},
   "outputs": [],
   "source": [
    "\n",
    "with open(mappings_file_path, \"rb\") as f:\n",
    "    mappings = pickle.load(f)\n",
    "    label_mapping = mappings[\"label_mapping\"]\n",
    "    reversed_label_mapping = mappings[\"reversed_label_mapping\"]"
   ]
  },
  {
   "cell_type": "markdown",
   "id": "ea9be192",
   "metadata": {},
   "source": [
    "# Snoo-Ze-Time instantiates the transformer and encrypt the weights"
   ]
  },
  {
   "cell_type": "code",
   "execution_count": 14,
   "id": "2c3db898",
   "metadata": {},
   "outputs": [
    {
     "name": "stderr",
     "output_type": "stream",
     "text": [
      "Encrypting weights:   5%|▍         | 1/21 [00:07<02:30,  7.52s/it]/Users/cathal.smyth/Desktop/github/ML/venumML_internal/demos/use_cases/transformer_social_utils.py:42: UserWarning: The use of `x.T` on tensors of dimension other than 2 to reverse their shape is deprecated and it will throw an error in a future release. Consider `x.mT` to transpose batches of matrices or `x.permute(*torch.arange(x.ndim - 1, -1, -1))` to reverse the dimensions of a tensor. (Triggered internally at /Users/runner/work/pytorch/pytorch/pytorch/aten/src/ATen/native/TensorShape.cpp:3281.)\n",
      "  weight = state_dict[k].T.numpy()\n",
      "Encrypting weights: 100%|██████████| 21/21 [00:07<00:00,  2.78it/s]\n"
     ]
    }
   ],
   "source": [
    "tokenizer = load_tokenizer()\n",
    "\n",
    "transformer = TransformerInference(\n",
    "    model_weights_path=model_path+\"/social_model_weights.pth\",\n",
    "    tokenizer=tokenizer,\n",
    "    encryption_context=ctx,\n",
    "    max_seq_len=20,\n",
    "    d_model=8,\n",
    "    num_heads=2,\n",
    "    d_ff=32,\n",
    "    vocab_size=30522,  # Example vocab size\n",
    "    class_size=len(label_mapping)\n",
    ")\n",
    "\n"
   ]
  },
  {
   "cell_type": "markdown",
   "id": "e7156862",
   "metadata": {},
   "source": [
    "# Snoo-Ze-Time classifies the user summaries   "
   ]
  },
  {
   "cell_type": "code",
   "execution_count": 15,
   "id": "f380e9e8",
   "metadata": {},
   "outputs": [
    {
     "name": "stderr",
     "output_type": "stream",
     "text": [
      "100%|██████████| 100/100 [04:15<00:00,  2.56s/it]\n"
     ]
    }
   ],
   "source": [
    "encrypted_classifications = transformer.predict(encrypted_summaries)   "
   ]
  },
  {
   "cell_type": "markdown",
   "id": "57963291",
   "metadata": {},
   "source": [
    "# Snoo-Ze-Time calculates the user PageRank"
   ]
  },
  {
   "cell_type": "code",
   "execution_count": 16,
   "id": "7fbd4789",
   "metadata": {},
   "outputs": [],
   "source": [
    "ranking = pagerank(ctx,EG,damping_factor=0.85, iters=20)"
   ]
  },
  {
   "cell_type": "markdown",
   "id": "979c19cb",
   "metadata": {},
   "source": [
    "Now, with all the analysis done, the results can be sent back to ClickReadShare to identify which users to advertise to.\n"
   ]
  },
  {
   "cell_type": "code",
   "execution_count": 17,
   "id": "6f894782",
   "metadata": {},
   "outputs": [],
   "source": [
    "decrypted_candidates = {}\n",
    "for user in encrypted_classifications.keys():\n",
    "\n",
    "    decrypted_classification = np.argmax(softmax(decrypt_array(encrypted_classifications[user])))\n",
    "    decrypted_candidates[user] = decrypted_classification*(ranking[user]).decrypt()\n",
    "\n"
   ]
  },
  {
   "cell_type": "markdown",
   "id": "ac4c0e05",
   "metadata": {},
   "source": [
    "# ClickReadShare identifies candidate"
   ]
  },
  {
   "cell_type": "code",
   "execution_count": 18,
   "id": "2833dc1b",
   "metadata": {},
   "outputs": [],
   "source": [
    "ranking_decrypted = decrypt_pagerank(ctx,ranking)   "
   ]
  },
  {
   "cell_type": "code",
   "execution_count": 19,
   "id": "73064575",
   "metadata": {},
   "outputs": [],
   "source": [
    "def pagerank_percentile(pagerank_dict):\n",
    "    \"\"\"\n",
    "    Computes the percentile rank for PageRank scores in a dictionary.\n",
    "\n",
    "    Parameters:\n",
    "        pagerank_dict (dict): Dictionary with user IDs as keys and PageRank scores as values.\n",
    "\n",
    "    Returns:\n",
    "        dict: Dictionary with user IDs as keys and percentile-scaled PageRank scores as values.\n",
    "    \"\"\"\n",
    "    # Extract keys and values\n",
    "    users = list(pagerank_dict.keys())\n",
    "    pagerank_scores = np.array(list(pagerank_dict.values()))\n",
    "\n",
    "    # Compute the ranks (percentile)\n",
    "    percentile_ranks = 100 * np.argsort(np.argsort(pagerank_scores)) / (len(pagerank_scores) - 1)\n",
    "\n",
    "    # Normalize to [0, 1] range\n",
    "    scaled_pagerank = percentile_ranks / 100\n",
    "\n",
    "    # Return as a dictionary\n",
    "    return {user: scaled for user, scaled in zip(users, scaled_pagerank)}\n"
   ]
  },
  {
   "cell_type": "code",
   "execution_count": 20,
   "id": "19b973c0",
   "metadata": {},
   "outputs": [],
   "source": [
    "scaled_pr = pagerank_percentile(ranking_decrypted)\n"
   ]
  },
  {
   "cell_type": "markdown",
   "id": "73aec336",
   "metadata": {},
   "source": [
    "Let's take a look at the top candidates. We can pick the out by picking those that have a high probability in the transformer classifier, and also are in the top percentile in the pagerank results (given by scaled_pr above.)"
   ]
  },
  {
   "cell_type": "code",
   "execution_count": 21,
   "id": "8a3bccd1",
   "metadata": {},
   "outputs": [],
   "source": [
    "decrypted_candidates_score = {}\n",
    "for user in encrypted_classifications.keys():\n",
    "\n",
    "    probabilities, decrypted_classification = to_classes(decrypt_array(encrypted_classifications[user]))\n",
    "    if scaled_pr[user] > 0.8 and probabilities[0][1] > 0.99:\n",
    "        decrypted_candidates_score[user] = probabilities[0][1]*scaled_pr[user]\n",
    "   "
   ]
  },
  {
   "cell_type": "markdown",
   "id": "f106df11",
   "metadata": {},
   "source": [
    "For fun, let's see what the comment summaries say about the users. Note this is not necessary, just to help validate the results."
   ]
  },
  {
   "cell_type": "code",
   "execution_count": 22,
   "id": "bf8cc6cd",
   "metadata": {},
   "outputs": [
    {
     "name": "stdout",
     "output_type": "stream",
     "text": [
      "user_99\n",
      "user summary: Sleep: Mindfulness meditation, exercise, setting boundaries, and avoiding screens before bed can improve sleep quality. Financial Health: Building credit, monitoring credit scores, and disputing errors are key for financial stability. Self-improvement: Challenging oneself\n",
      "decrypted candidates score: 0.9999999990177237\n",
      "~~~~\n",
      "user_98\n",
      "user summary: Sleep: Create a bedtime routine to improve sleep quality. Sustainable weight loss: Focus on small diet and lifestyle changes. Retirement savings: Prioritize saving early and diversifying investments. Mental wellness: Practice self-care routines, mindfulness, and meditation. Supplements:\n",
      "decrypted candidates score: 0.9898989898989413\n",
      "~~~~\n",
      "user_97\n",
      "user summary: Improving sleep quality is crucial for overall well-being. Establish a calming bedtime routine and create a comfortable sleeping environment. Limit screen time and avoid caffeine close to bedtime. Consistency is key for better sleep. Prioritize self-care, mental wellness, and\n",
      "decrypted candidates score: 0.9797979757416867\n",
      "~~~~\n",
      "user_96\n",
      "user summary: Improving sleep quality: Establish a consistent bedtime routine with relaxing activities. Balance work and personal life: Set boundaries, prioritize self-care, and communicate needs. Managing stress and anxiety: Practice mindfulness, exercise, connect with loved ones. Weight loss: Focus\n",
      "decrypted candidates score: 0.9696969017553918\n",
      "~~~~\n",
      "user_95\n",
      "user summary: Communication: Improve skills for stronger relationships, practice active listening, express thoughts clearly, be open to feedback, and understand others' perspectives.\n",
      "\n",
      "Financial Planning: Build a safety net with a cushion of savings, establish credit, and manage credit score for financial success\n",
      "decrypted candidates score: 0.9595955609043029\n",
      "~~~~\n"
     ]
    }
   ],
   "source": [
    "\n",
    "sorted_decrypted_candidates = {k: v for k, v in sorted(decrypted_candidates.items(), key=lambda item: item[1], reverse=True)}\n",
    "for user in list(sorted_decrypted_candidates.keys())[:5]:\n",
    "    print(user)\n",
    "    print('user summary:' , user_summary[user])\n",
    "    print('decrypted candidates score:', decrypted_candidates_score[user])\n",
    "    print('~~~~')\n"
   ]
  },
  {
   "cell_type": "code",
   "execution_count": null,
   "id": "70f86962",
   "metadata": {},
   "outputs": [],
   "source": []
  }
 ],
 "metadata": {
  "kernelspec": {
   "display_name": "CathalEnv",
   "language": "python",
   "name": "python3"
  },
  "language_info": {
   "codemirror_mode": {
    "name": "ipython",
    "version": 3
   },
   "file_extension": ".py",
   "mimetype": "text/x-python",
   "name": "python",
   "nbconvert_exporter": "python",
   "pygments_lexer": "ipython3",
   "version": "3.8.18"
  }
 },
 "nbformat": 4,
 "nbformat_minor": 5
}
