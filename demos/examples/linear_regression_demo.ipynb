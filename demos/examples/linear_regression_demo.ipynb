{
 "cells": [
  {
   "cell_type": "markdown",
   "metadata": {},
   "source": [
    "## Encrypted Linear Regression Tutorial\n",
    "This Jupyter notebook provides an introduction to using EncryptedLinearRegression from the venumML library, built on top of venumpy.\n",
    "\n",
    "Note: This is a basic example and might require additional libraries for data manipulation and visualization depending on your specific needs."
   ]
  },
  {
   "cell_type": "code",
   "execution_count": null,
   "metadata": {},
   "outputs": [],
   "source": [
    "from venumML.venumpy import small_glwe as vp\n",
    "import numpy as np"
   ]
  },
  {
   "cell_type": "markdown",
   "metadata": {},
   "source": [
    "### Simple Plaintext Linear Regression with scikit-learn\n",
    "Before diving into EncryptedLinearRegression, let's explore unencrypted linear regression using scikit-learn (sklearn). Sklearn provides a widely used implementation of linear regression with the LinearRegression class."
   ]
  },
  {
   "cell_type": "code",
   "execution_count": 2,
   "metadata": {},
   "outputs": [
    {
     "name": "stdout",
     "output_type": "stream",
     "text": [
      "Scikit-Learn Coefficients: [97.34470865 53.97517178]\n",
      "Scikit-Learn Intercept: 0.01304980049037141\n",
      "13.2 ns ± 0.338 ns per loop (mean ± std. dev. of 7 runs, 100,000,000 loops each)\n",
      "Scikit-Learn Predictions: [-123.36744417  191.42716919]\n"
     ]
    }
   ],
   "source": [
    "from sklearn.linear_model import LinearRegression\n",
    "from sklearn.datasets import make_regression\n",
    "from sklearn.model_selection import train_test_split\n",
    "\n",
    "# Step 1: Generate Sample Data\n",
    "X, y = make_regression(n_samples=10, n_features=2, noise=0.1)\n",
    "X_train, X_test, y_train, y_test = train_test_split(X, y, test_size=0.2, random_state=42)\n",
    "\n",
    "sk_lr = LinearRegression()\n",
    "sk_lr.fit(X_train, y_train)\n",
    "\n",
    "print(\"Scikit-Learn Coefficients:\", sk_lr.coef_)\n",
    "print(\"Scikit-Learn Intercept:\", sk_lr.intercept_)\n",
    "\n",
    "# Compare with Scikit-Learn predictions\n",
    "sk_lr_predictions = sk_lr.predict(X_test)\n",
    "\n",
    "%timeit sk_lr_predictions\n",
    "print(\"Scikit-Learn Predictions:\", sk_lr_predictions)"
   ]
  },
  {
   "cell_type": "markdown",
   "metadata": {},
   "source": [
    "The steps for plaintext linear regression are:\n",
    "\n",
    "- We import LinearRegression from sklearn.linear_model.\n",
    "- We create an instance of LinearRegression and train it on the data using fit(X, y).\n",
    "- We define new data (X_new) for prediction.\n",
    "- We use the trained model's predict(X_new) method to get the predicted target value.\n",
    "- We print the predicted value for the new data point.\n",
    "- This section demonstrates how to use scikit-learn's LinearRegression for prediction, similar to how we'll use EncryptedLinearRegression in the next sections."
   ]
  },
  {
   "cell_type": "markdown",
   "metadata": {},
   "source": [
    "### VenumML EncryptedLinearRegression Class\n",
    "This class implements a linear regression model with support for encrypted data. It allows you to perform encrypted predictions without revealing the underlying model parameters or the data itself.\n",
    "\n",
    "#### Encryption Approach:\n",
    "\n",
    "This class is designed to enable computations over encrypted data by using Fully Homomorphic Encryption (FHE). FHE enables computations on encrypted data, allowing the model to perform linear regression without decrypting the input data.\n",
    "\n",
    "#### Class Attributes:\n",
    "\n",
    "context: Venumpy context object used for encryption and decryption. This can be defined as an argument in the constructor or as a class attribute depending on how you want to manage the encryption context for your models.\n"
   ]
  },
  {
   "cell_type": "markdown",
   "metadata": {},
   "source": [
    "### Encrypted Linear Regression with venumpy"
   ]
  },
  {
   "cell_type": "code",
   "execution_count": null,
   "metadata": {},
   "outputs": [],
   "source": [
    "from venumML.linear_models.regression.linear_regression import EncryptedLinearRegression\n",
    "from venumML.venum_tools import encrypt_array\n",
    "\n",
    "# Create venumpy context with 128 bits of security\n",
    "ctx = vp.SecretContext()\n",
    "ctx.precision = 6"
   ]
  },
  {
   "cell_type": "code",
   "execution_count": 4,
   "metadata": {},
   "outputs": [],
   "source": [
    "X = np.array([[1, 2], [2, 3], [3, 5], [4, 7], [5, 11]])  # Features\n",
    "y = np.array([2, 4, 5, 4, 5])\n",
    "       \n",
    "# 1D array\n",
    "model = EncryptedLinearRegression(ctx)\n",
    "model.fit(X, y)\n",
    "model.encrypt_coefficients(ctx)"
   ]
  },
  {
   "cell_type": "code",
   "execution_count": 5,
   "metadata": {},
   "outputs": [],
   "source": [
    "\n",
    "\n",
    "class EncryptedLinearRegression:\n",
    "    \"\"\"\n",
    "    A linear regression model that supports encrypted training and prediction.\n",
    "\n",
    "    Attributes\n",
    "    ----------\n",
    "    context : EncryptionContext\n",
    "        The encryption context that provides encryption and decryption methods.\n",
    "    coef_ : array-like, shape (n_features,)\n",
    "        Coefficients of the linear model after fitting (in plaintext).\n",
    "    intercept_ : float\n",
    "        Intercept of the linear model after fitting (in plaintext).\n",
    "    encrypted_intercept_ : encrypted float\n",
    "        Encrypted intercept of the model, used in encrypted prediction.\n",
    "    encrypted_coef_ : list of encrypted floats\n",
    "        Encrypted coefficients of the model, used in encrypted prediction.\n",
    "    \"\"\"\n",
    "    \n",
    "    def __init__(self, ctx):\n",
    "        \"\"\"\n",
    "        Initialises the EncryptedLinearRegression model with a given encryption context.\n",
    "\n",
    "        Parameters\n",
    "        ----------\n",
    "        ctx : EncryptionContext\n",
    "            The encryption context used to encrypt values.\n",
    "        \"\"\"\n",
    "\n",
    "        self._context = ctx\n",
    "        self._coef_ = None\n",
    "        self._intercept_ = None\n",
    "        self._encrypted_intercept_ = ctx.encrypt(0)\n",
    "        self._encrypted_coef_ = ctx.encrypt(0)\n",
    "\n",
    "    \n",
    "    def encrypted_fit(self, ctx, x, y, lr=0.3, gamma=0.9, epochs=10):\n",
    "        \"\"\"\n",
    "        Fits the linear regression model on encrypted data using Nesterov's accelerated gradient descent.\n",
    "\n",
    "        Parameters\n",
    "        ----------\n",
    "        ctx : EncryptionContext\n",
    "            The encryption context used to encrypt and decrypt values.\n",
    "        x : encrypted array-like, shape (n_samples, n_features)\n",
    "            Encrypted input data.\n",
    "        y : encrypted array-like, shape (n_samples,)\n",
    "            Encrypted target values.\n",
    "        lr : float, optional, default=0.3\n",
    "            Learning rate for the optimizer.\n",
    "        gamma : float, optional, default=0.9\n",
    "            Momentum parameter for Nesterov's accelerated gradient descent.\n",
    "        epochs : int, optional, default=10\n",
    "            Number of epochs to run for optimization.\n",
    "        \"\"\"\n",
    "\n",
    "        optimizer = Nesterov(ctx)\n",
    "        encrypted_intercept, encrypted_coef, losses = optimizer.venum_nesterov_agd(ctx,x,y)\n",
    "        \n",
    "        self._encrypted_intercept_ = encrypted_intercept\n",
    "        self._encrypted_coef_ = encrypted_coef\n",
    "\n",
    "    \n",
    "    def fit(self, X, y):\n",
    "        \"\"\"\n",
    "        Fits the linear regression model using ordinary least squares.\n",
    "\n",
    "        Parameters\n",
    "        ----------\n",
    "        X : array-like, shape (n_samples, n_features)\n",
    "            Plaintext input data.\n",
    "        y : array-like, shape (n_samples,)\n",
    "            Plaintext target values.\n",
    "        \"\"\"\n",
    "\n",
    "        X_b = np.c_[np.ones((X.shape[0], 1)), X]\n",
    "        theta_best = np.linalg.inv(X_b.T.dot(X_b)).dot(X_b.T).dot(y)\n",
    "        self._intercept_ = theta_best[0]\n",
    "        self._coef_ = theta_best[1:]\n",
    "\n",
    "    def encrypt_coefficients(self, ctx):\n",
    "        \"\"\"\n",
    "        Encrypts the model's coefficients and intercept after fitting.\n",
    "\n",
    "        Parameters\n",
    "        ----------\n",
    "        ctx : EncryptionContext\n",
    "            The encryption context used to encrypt plaintexts.\n",
    "        \"\"\"\n",
    "\n",
    "        self._encrypted_intercept_ = ctx.encrypt(self._intercept_)\n",
    "        self._encrypted_coef_ = [ctx.encrypt(v) for v in self._coef_]\n",
    "\n",
    "    def predict(self, encrypted_X, ctx):\n",
    "        \"\"\"\n",
    "        Predicts outcomes using encrypted input data and the model's encrypted coefficients.\n",
    "\n",
    "        Parameters\n",
    "        ----------\n",
    "        encrypted_X : encrypted array-like, shape (n_samples, n_features)\n",
    "            Encrypted input data for making predictions.\n",
    "        ctx : EncryptionContext\n",
    "            The encryption context used to encrypt and decrypt values.\n",
    "\n",
    "        Returns\n",
    "        -------\n",
    "        encrypted_prediction : encrypted array-like, shape (n_samples,)\n",
    "            The encrypted predictions based on the encrypted model coefficients and intercept.\n",
    "        \"\"\"\n",
    "        \n",
    "        encrypted_prediction = encrypted_X @ self._encrypted_coef_ + self._encrypted_intercept_\n",
    "        return encrypted_prediction\n"
   ]
  },
  {
   "cell_type": "code",
   "execution_count": 7,
   "metadata": {},
   "outputs": [
    {
     "name": "stdout",
     "output_type": "stream",
     "text": [
      "VENum Linear Regression Coefficients: [97.34470865 53.97517178]\n",
      "VENum Linear Regression Intercept: 0.013049800490385621\n",
      "10.6 ns ± 0.649 ns per loop (mean ± std. dev. of 7 runs, 100,000,000 loops each)\n",
      "Decrypted VENum Predictions: [-123.367444044113, 191.427116046652]\n"
     ]
    }
   ],
   "source": [
    "# Step 1: Sample Data from previous sklearn is used\n",
    "\n",
    "# Step 2: Train EncryptedLinearRegression and Scikit-Learn LinearRegression\n",
    "my_lr = EncryptedLinearRegression(ctx)\n",
    "my_lr.fit(X_train, y_train)\n",
    "\n",
    "# Compare the Coefficients and Intercept\n",
    "print(\"VENum Linear Regression Coefficients:\", my_lr._coef_)\n",
    "print(\"VENum Linear Regression Intercept:\", my_lr._intercept_)\n",
    "\n",
    "# Test Inference\n",
    "my_lr.encrypt_coefficients(ctx)\n",
    "\n",
    "cipher_X = encrypt_array(X_test,ctx)\n",
    "\n",
    "# Now cipher_X is a flat list of encrypted features\n",
    "my_lr_predictions = my_lr.predict(cipher_X,ctx)\n",
    "\n",
    "# Decrypt predictions\n",
    "decrypted_predictions = [pred.decrypt() for pred in my_lr_predictions]\n",
    "\n",
    "# Compare with Scikit-Learn predictions\n",
    "sk_lr_predictions = sk_lr.predict(X_test)\n",
    "\n",
    "%timeit my_lr_predictions\n",
    "# Output comparisons (Note: The decrypted predictions need to be reshaped or processed further to match the format of sk_lr_predictions)\n",
    "print(\"Decrypted VENum Predictions:\", decrypted_predictions)"
   ]
  },
  {
   "cell_type": "code",
   "execution_count": null,
   "metadata": {},
   "outputs": [],
   "source": []
  }
 ],
 "metadata": {
  "kernelspec": {
   "display_name": "CathalEnv",
   "language": "python",
   "name": "python3"
  },
  "language_info": {
   "codemirror_mode": {
    "name": "ipython",
    "version": 3
   },
   "file_extension": ".py",
   "mimetype": "text/x-python",
   "name": "python",
   "nbconvert_exporter": "python",
   "pygments_lexer": "ipython3",
   "version": "3.8.18"
  }
 },
 "nbformat": 4,
 "nbformat_minor": 4
}
